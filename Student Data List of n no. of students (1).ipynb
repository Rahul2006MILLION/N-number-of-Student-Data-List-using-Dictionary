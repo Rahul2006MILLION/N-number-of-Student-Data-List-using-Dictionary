{
 "cells": [
  {
   "cell_type": "code",
   "execution_count": 9,
   "id": "68dd5b26-b1ae-4ed8-8575-a413b99e14b7",
   "metadata": {},
   "outputs": [
    {
     "name": "stdin",
     "output_type": "stream",
     "text": [
      "Enter the Total no:  2\n"
     ]
    },
    {
     "name": "stdout",
     "output_type": "stream",
     "text": [
      "Student 1:\n"
     ]
    },
    {
     "name": "stdin",
     "output_type": "stream",
     "text": [
      "Enter the Name:  Rahul\n",
      "Enter the Age:  19\n",
      "Enter the Course:  AIML\n"
     ]
    },
    {
     "name": "stdout",
     "output_type": "stream",
     "text": [
      "Student 2:\n"
     ]
    },
    {
     "name": "stdin",
     "output_type": "stream",
     "text": [
      "Enter the Name:  Judy\n",
      "Enter the Age:  19\n",
      "Enter the Course:  CSE\n"
     ]
    },
    {
     "name": "stdout",
     "output_type": "stream",
     "text": [
      "Student Details....\n",
      " Student 1: Name: Rahul, Age: 19, Course: AIML\n",
      " Student 2: Name: Judy, Age: 19, Course: CSE\n"
     ]
    }
   ],
   "source": [
    "n=int(input(\"Enter the Total no: \"))\n",
    "l=[]\n",
    "t=1\n",
    "for i in range(n):\n",
    "    print(f'Student {t}:')\n",
    "    name=input(\"Enter the Name: \")\n",
    "    age=int(input(\"Enter the Age: \"))\n",
    "    course=input(\"Enter the Course: \")\n",
    "    d={'Name':name,'Age':age,'Course':course}\n",
    "    l.append(d)\n",
    "    t+=1\n",
    "print(\"Student Details....\")\n",
    "z=1\n",
    "for j in l:\n",
    "    print(f\" Student {z}: Name: {j['Name']}, Age: {j['Age']}, Course: {j['Course']}\")\n",
    "    z+=1"
   ]
  },
  {
   "cell_type": "code",
   "execution_count": null,
   "id": "846bbd78-df3c-4d6b-9e68-9cd0c8bf46d8",
   "metadata": {},
   "outputs": [],
   "source": []
  }
 ],
 "metadata": {
  "kernelspec": {
   "display_name": "Python 3 (ipykernel)",
   "language": "python",
   "name": "python3"
  },
  "language_info": {
   "codemirror_mode": {
    "name": "ipython",
    "version": 3
   },
   "file_extension": ".py",
   "mimetype": "text/x-python",
   "name": "python",
   "nbconvert_exporter": "python",
   "pygments_lexer": "ipython3",
   "version": "3.12.4"
  }
 },
 "nbformat": 4,
 "nbformat_minor": 5
}
